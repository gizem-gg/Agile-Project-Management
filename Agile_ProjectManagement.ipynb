{
 "cells": [
  {
   "cell_type": "markdown",
   "id": "6be545c5-a697-480f-bc98-133ae7bde7f4",
   "metadata": {
    "jp-MarkdownHeadingCollapsed": true,
    "tags": []
   },
   "source": [
    "# Agile Project Management\n",
    "\n",
    "**Agile is a project management paradigm, Scrum and Kanban are different agile process frameworks**\n",
    "  1. **Scrum**: \n",
    "      - Providing structure to the team and schedule\n",
    "      - More suitable if there are frequent changes (e.g. producing new products)\n",
    "      - More complex projects\n",
    "      ***\n",
    "      - Roles: Scrum master, product owner, and development team\n",
    "      - Delivery cycle: Sprint\n",
    "      - Change policy: Generally not made during sprint\n",
    "      - Artifacts: Product backlog, sprint backlog, product increments\n",
    "      <br>\n",
    "      <br>\n",
    "  2. **Kanban**: \n",
    "      - Kanban (meaning from Japanese: sign-board) board invented in **Toyota**\n",
    "      - Visualisation of tasks\n",
    "      - Tasks are written on cards,\n",
    "      - The combination of Agile and Lean\n",
    "      ***\n",
    "      - Roles: No defined roles\n",
    "      - Delivery cycle: Continous\n",
    "      - Change policy: Can be incorporated any time\n",
    "      - Artifacts: Product backlog, sprint backlog, product increments\n",
    "      <br>\n",
    "      <br>\n",
    "      \n",
    "      ![Kanban Board](https://d112uwirao0vo9.cloudfront.net/wp-content/uploads/2018/11/Kanban-Board.png)\n",
    "      \n",
    "        \n",
    "     #### Benefits: \n",
    "       1. Increased visibility of flow, \n",
    "       2. Improved delivery speed, \n",
    "       3. Alignment between business objectives, key results, and delivery work\n",
    "       \n",
    "       <br>\n",
    "      \n",
    "  3. **Scrumban**: Hybrid - Scrum processes with the Kanban visualisation"
   ]
  },
  {
   "cell_type": "markdown",
   "id": "1b9a3785-8a6b-4645-ba01-741f7305db8b",
   "metadata": {},
   "source": [
    "## References\n",
    "1. __https://eugeneyan.com/writing/data-science-and-agile-what-works-and-what-doesnt/?utm_campaign=ml4devs-newsletter&utm_medium=email&utm_source=Revue%20newsletter__"
   ]
  }
 ],
 "metadata": {
  "kernelspec": {
   "display_name": "Python 3",
   "language": "python",
   "name": "python3"
  },
  "language_info": {
   "codemirror_mode": {
    "name": "ipython",
    "version": 3
   },
   "file_extension": ".py",
   "mimetype": "text/x-python",
   "name": "python",
   "nbconvert_exporter": "python",
   "pygments_lexer": "ipython3",
   "version": "3.7.8"
  }
 },
 "nbformat": 4,
 "nbformat_minor": 5
}
