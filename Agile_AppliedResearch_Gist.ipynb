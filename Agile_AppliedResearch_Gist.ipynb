{
 "cells": [
  {
   "cell_type": "markdown",
   "id": "1e10134b-48a7-44a6-ac24-ebd9652a92de",
   "metadata": {},
   "source": [
    "## What I Love about Scrum for Data Science\n",
    "\n",
    "   **We learn that, sometimes, deploying something that’s 80% done in one - two months is \n",
    "     10x better than deploying something 99% done in six months.**\n",
    "     \n",
    "   - Demos: Research and experimentation numbers\n",
    "   \n",
    "   - Time-boxing can constraint data science and innovation - in research focused, \n",
    "     academic teams, it probably would not work \n",
    "     1. Ours is like somewhere in between\n",
    "     2. We can apply time-boxing on some of the requirements maybe?\n",
    "   \n",
    "   <br>\n",
    "   **Better to move in the right direction, albeit slower, than fast on the wrong path.**"
   ]
  },
  {
   "cell_type": "code",
   "execution_count": null,
   "id": "caaeb1d5-60f3-4ec4-878a-a3ec0fe4d619",
   "metadata": {},
   "outputs": [],
   "source": []
  }
 ],
 "metadata": {
  "kernelspec": {
   "display_name": "Python 3",
   "language": "python",
   "name": "python3"
  },
  "language_info": {
   "codemirror_mode": {
    "name": "ipython",
    "version": 3
   },
   "file_extension": ".py",
   "mimetype": "text/x-python",
   "name": "python",
   "nbconvert_exporter": "python",
   "pygments_lexer": "ipython3",
   "version": "3.7.8"
  }
 },
 "nbformat": 4,
 "nbformat_minor": 5
}
