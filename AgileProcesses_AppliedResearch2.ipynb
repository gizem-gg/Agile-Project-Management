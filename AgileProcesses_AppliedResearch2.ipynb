{
 "cells": [
  {
   "cell_type": "markdown",
   "id": "6be545c5-a697-480f-bc98-133ae7bde7f4",
   "metadata": {},
   "source": [
    "# Agile and Data Science\n",
    "\n",
    "1. Works well?\n",
    "   1. **Periodic planning and prioritization**: Being aligned with the targets\n",
    "   \n",
    "   2. **Clearly defined tasks with timelines**: Task definition - yes, but timeline?\n",
    "   \n",
    "   3. **Retrospectives and demos**: Retro meetings and HQ alignment meetings (not end-to-end)\n",
    "   \n",
    "2. Don't work well?\n",
    "   1. **Difficulty with estimations**: Ill defined most of tht time - with larger search for solutions\n",
    "   \n",
    "   2. **Rapidly changing scope and requirements**: Based on the HQ alignment meetings, their requests - the    \n",
    "      priorities might change (Lableb, which is an API for Arabic, evaluation al of a sudden)\n",
    "      \n",
    "   3. **Expectations for engineering-like/software-like deliverables after each sprint**: We aware of this - \n",
    "      but for people with engineering background might put stress on team (mindset change needed), not only \n",
    "      code but also experimental results, research findings, learnings, next steps are also valuable.\n",
    "      \n",
    "   4. **Being too disciplined with timelines**: A happy problem is being too efficient and aligned with target priorities. What about innovation and improvement then? \n",
    "   <blockquote> According to Google, a team can allocate 20% innovation time - innovation is essential for improvements. </blockquote>"
   ]
  },
  {
   "cell_type": "markdown",
   "id": "9e7d17b5-8ee1-4c74-9f35-13b236994667",
   "metadata": {
    "tags": []
   },
   "source": [
    "## How to adapt Agile for Data Science\n",
    "   1. **Time-boxed iterations**\n",
    "         <blockquote> Having time-boxed iterations prevents R&D endeavours from becoming a blackhole. </blockquote>\n",
    "\n",
    "      1. Feasibility Assessment:\n",
    "         - Requirement clarification (intent, deliverables, constraints)\n",
    "         - If there is a big difference btw ballpark estimate and desired accuracy then work on steps to improve performance (additional data collection, transfer learning, research etc.)\n",
    "      \n",
    "           **The main question in this stage is: Given the existing data, are we able to \n",
    "           get a reasonable level of performance? Should we expend more resources on       \n",
    "           it?**\n",
    "         \n",
    "      2. Proof of concepts (PoC):\n",
    "         - Minimum viable product (MVP)\n",
    "         - To validate the initial idea and implementation\n",
    "         - Local validation, AB testing, or feedback from customer\n",
    " \n",
    "      <br>\n",
    "         \n",
    "      3. Deploy to production:\n",
    "         - Data engineering (scheduling, scaling, monitoring etc.)\n",
    "         - Code refactorisation to optimise **maintainability**, **performance**, \n",
    "             **scalability**, and **robustness**\n",
    "         - Invest time to develop automated test cases and documentation\n",
    "         \n",
    "           **A software engineer, with experience at Google, Microsoft, Amazon, and \n",
    "             Oracle, shared on Quora that a research prototype took 2 man-months, while a \n",
    "             production-quality version required 117 man-months. That’s approximately 60x \n",
    "             more time!**\n",
    "         \n",
    "      4. Operational maintenance:\n",
    "         - Maintenance\n",
    "         - New features/models based on customer's request\n",
    "      \n",
    "      <br>\n",
    "   2. **Starting with Planning & Prioritisation, Ending with Demo and Retrospective**\n",
    "        - Given the high-level intent and deliverables - how to break down the tasks?\n",
    "        - **Anything more than 2 days - should be broken!**\n",
    "        - **Each task is assigned a level of importance/urgency** (customer involvement - \n",
    "            HQ feedback)\n",
    "        - Retrospective (already doing): \n",
    "          1. **Enjoyable** (let's celebrate!), \n",
    "          2. **Frustrating** (challenges of technical, business, or politics)\n",
    "          3. **Puzzling**.\n",
    "        <br>\n",
    "        - Demo session (showing results to the customer) - feedback, grow together?\n",
    "        \n",
    "        <br>    \n",
    "        <font color='red'>\n",
    "        - Q1: Maybe define a high-level intent and deliverable at the end of sprint for   \n",
    "             each requirement (subtarget, milestone etc.)??</font>\n",
    "        <br>\n",
    "        <font color='red'>\n",
    "        - Q2: Define the priority for each task in planning based on our targets and \n",
    "              customer feedback??</font>\n",
    "            \n",
    "   3. **Writing up projects before starting**\n",
    "      - Allocate time on planning & preparing a document\n",
    "      - Reference document to check if the requirement is on track\n",
    "      - Standard template:\n",
    "        - Problem?: Start with the current situation\n",
    "        - Intent?: What and How\n",
    "        - Desired outcome/success metrics?\n",
    "        - Deliverable? API, AI model - internal/external users\n",
    "        - Benefits? - Downstream benefits to the business: Created value\n",
    "        - Dependencies & constraints? - Model refresh frequency to maintain acceptable \n",
    "          performance, which languages, distributed computing, latency, memory, GPU \n",
    "          available or not\n",
    "          \n",
    "       \n",
    "   4. **Updated mindset to include innovation**\n",
    "      - Innovation projects?: In our case, self improvement time such as online courses, \n",
    "        the planned grad course etc. \n",
    "      - Should have a deliverable on sharing their learnings (e.g. certificates, knowledge \n",
    "        sharing sessions, tech shots)\n"
   ]
  },
  {
   "cell_type": "markdown",
   "id": "074541fe-508d-46e5-9bdb-74de742ae032",
   "metadata": {},
   "source": [
    "![Kanban Board](https://eugeneyan.com/assets/agile-manifesto.jpg)\n",
    "\n"
   ]
  },
  {
   "cell_type": "markdown",
   "id": "1b9a3785-8a6b-4645-ba01-741f7305db8b",
   "metadata": {},
   "source": [
    "## References\n",
    "1. __https://eugeneyan.com/writing/data-science-and-agile-frameworks-for-effectiveness/?utm_campaign=ml4devs-newsletter&utm_medium=email&utm_source=Revue%20newsletter__"
   ]
  },
  {
   "cell_type": "code",
   "execution_count": null,
   "id": "dc886007-2a76-4842-8a5c-897ea4d525a2",
   "metadata": {},
   "outputs": [],
   "source": []
  }
 ],
 "metadata": {
  "kernelspec": {
   "display_name": "Python 3",
   "language": "python",
   "name": "python3"
  },
  "language_info": {
   "codemirror_mode": {
    "name": "ipython",
    "version": 3
   },
   "file_extension": ".py",
   "mimetype": "text/x-python",
   "name": "python",
   "nbconvert_exporter": "python",
   "pygments_lexer": "ipython3",
   "version": "3.7.8"
  }
 },
 "nbformat": 4,
 "nbformat_minor": 5
}
